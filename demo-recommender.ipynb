{
 "cells": [
  {
   "cell_type": "markdown",
   "metadata": {},
   "source": [
    "# News Feed Recommender System using ALS\n",
    "\n",
    "This notebook demonstrates collaborative filtering approach to recommend item to users based on implicit data, ie. users' behaviour to items without rating or specific action such as like or dislike. In this example, our items are news feed and the implicit data are whether a user has read on a news feed. For illustration purpose, we have \n",
    "\n",
    "We implement the Alternating Least Squares algorithm using Implicit library, which has very efficient performance on large dataset. Implicit also has built in functions for recommendations and similar items.\n",
    "\n"
   ]
  },
  {
   "cell_type": "code",
   "execution_count": 1,
   "metadata": {},
   "outputs": [],
   "source": [
    "import pandas as pd\n",
    "import numpy as np\n",
    "import implicit\n",
    "import scipy.sparse as sparse\n",
    "from time import time"
   ]
  },
  {
   "cell_type": "markdown",
   "metadata": {},
   "source": [
    "## 1. Load and Prepare Data \n",
    "\n",
    "First, let us load the dataset. The dataset has 1M rows of user-news interaction. Read=1 indicates that user has read the news feed. There are around 110k users and 30k items.\n",
    "\n",
    "Implicit expects data as a item-user matrix, thus we create two matricies, one for fitting the model (item-user) and one for recommendations (user-item)."
   ]
  },
  {
   "cell_type": "code",
   "execution_count": 3,
   "metadata": {},
   "outputs": [
    {
     "name": "stdout",
     "output_type": "stream",
     "text": [
      "Dimensions of user-item matrix:  (125801, 39956)\n"
     ]
    },
    {
     "data": {
      "text/html": [
       "<div>\n",
       "<style scoped>\n",
       "    .dataframe tbody tr th:only-of-type {\n",
       "        vertical-align: middle;\n",
       "    }\n",
       "\n",
       "    .dataframe tbody tr th {\n",
       "        vertical-align: top;\n",
       "    }\n",
       "\n",
       "    .dataframe thead th {\n",
       "        text-align: right;\n",
       "    }\n",
       "</style>\n",
       "<table border=\"1\" class=\"dataframe\">\n",
       "  <thead>\n",
       "    <tr style=\"text-align: right;\">\n",
       "      <th></th>\n",
       "      <th>user_id</th>\n",
       "      <th>news_id</th>\n",
       "      <th>read</th>\n",
       "    </tr>\n",
       "  </thead>\n",
       "  <tbody>\n",
       "    <tr>\n",
       "      <th>0</th>\n",
       "      <td>11085</td>\n",
       "      <td>37758</td>\n",
       "      <td>1</td>\n",
       "    </tr>\n",
       "    <tr>\n",
       "      <th>1</th>\n",
       "      <td>89374</td>\n",
       "      <td>37197</td>\n",
       "      <td>1</td>\n",
       "    </tr>\n",
       "    <tr>\n",
       "      <th>2</th>\n",
       "      <td>1989</td>\n",
       "      <td>37768</td>\n",
       "      <td>1</td>\n",
       "    </tr>\n",
       "    <tr>\n",
       "      <th>3</th>\n",
       "      <td>10535</td>\n",
       "      <td>37755</td>\n",
       "      <td>1</td>\n",
       "    </tr>\n",
       "    <tr>\n",
       "      <th>4</th>\n",
       "      <td>55284</td>\n",
       "      <td>37528</td>\n",
       "      <td>1</td>\n",
       "    </tr>\n",
       "  </tbody>\n",
       "</table>\n",
       "</div>"
      ],
      "text/plain": [
       "   user_id  news_id  read\n",
       "0    11085    37758     1\n",
       "1    89374    37197     1\n",
       "2     1989    37768     1\n",
       "3    10535    37755     1\n",
       "4    55284    37528     1"
      ]
     },
     "execution_count": 3,
     "metadata": {},
     "output_type": "execute_result"
    }
   ],
   "source": [
    "# load data\n",
    "raw_data = pd.read_csv(\"data/data.csv\")\n",
    "raw_data.columns = ['user','news','read']\n",
    "\n",
    "# drop nan columns\n",
    "data = raw_data.dropna()\n",
    "\n",
    "# create numeric user_id and news_id\n",
    "data['user'] = data['user'].astype(\"category\")\n",
    "data['news'] = data['news'].astype(\"category\")\n",
    "data['user_id'] = data['user'].cat.codes\n",
    "data['news_id'] = data['news'].cat.codes\n",
    "\n",
    "# create item-user and user-item sparse matrices\n",
    "sparse_item_user = sparse.csr_matrix((data['read'].astype(float), (data['news_id'], data['user_id'])))\n",
    "sparse_user_item = sparse.csr_matrix((data['read'].astype(float), (data['user_id'], data['news_id'])))\n",
    "\n",
    "print('Dimensions of user-item matrix: ', sparse_user_item.shape)\n",
    "data[['user_id','news_id','read']].head()"
   ]
  },
  {
   "cell_type": "markdown",
   "metadata": {},
   "source": [
    "We also create item_lookup to help lookup for news headlines, so that we can intreprete the results later."
   ]
  },
  {
   "cell_type": "code",
   "execution_count": 13,
   "metadata": {},
   "outputs": [],
   "source": [
    "# create item_lookup for easier lookup for news headlines\n",
    "item_lookup = data[['news_id', 'news']].drop_duplicates()\n",
    "\n",
    "headlines = pd.read_csv(\"data/headlines.csv\")\n",
    "headlines['news_id'] = [item_lookup[item_lookup.news==x].news_id.iloc[0] for x in headlines.news]"
   ]
  },
  {
   "cell_type": "markdown",
   "metadata": {},
   "source": [
    "## 2. Train ALS Model\n",
    "\n",
    "The ALS model takes a few parameters.\n",
    "* factor: number of latent features we want to have\n",
    "* regularization: regularization parameter\n",
    "* iterations: number of times alternating between fixing and updating user and item vectors in the ALS algorithm\n",
    "* alpha_val: The rate in which we'll increase our confidence in a preference with more interactions"
   ]
  },
  {
   "cell_type": "code",
   "execution_count": 7,
   "metadata": {},
   "outputs": [
    {
     "name": "stderr",
     "output_type": "stream",
     "text": [
      "100%|██████████| 20.0/20 [00:03<00:00,  5.91it/s]"
     ]
    },
    {
     "name": "stdout",
     "output_type": "stream",
     "text": [
      "--- 3.4426791667938232 seconds ---\n"
     ]
    },
    {
     "name": "stderr",
     "output_type": "stream",
     "text": [
      "\n"
     ]
    }
   ],
   "source": [
    "# initiate the ALS model using sparse item-user matrix\n",
    "model = implicit.als.AlternatingLeastSquares(factors=20, regularization=0.1, iterations=20)\n",
    "alpha_val = 40\n",
    "data_conf = (sparse_item_user * alpha_val).astype('double')\n",
    "\n",
    "# fit the model\n",
    "start_time = time()\n",
    "model.fit(data_conf)\n",
    "print(\"--- %s seconds ---\" % (time() - start_time))"
   ]
  },
  {
   "cell_type": "markdown",
   "metadata": {},
   "source": [
    "## 3. Find Similar Items\n",
    "\n",
    "After we have trained the ALS model, we can make recommendations. First, let us find news feed similar to the news headline 'formula one cars arrive in melbourne'.  Implicit has built in functions for similar items. It gets the similarity by takeing the dot product of the item vectors with the item vector of a specific news feed."
   ]
  },
  {
   "cell_type": "code",
   "execution_count": 18,
   "metadata": {},
   "outputs": [
    {
     "name": "stdout",
     "output_type": "stream",
     "text": [
      "Searching for news feed similar to:  formula one cars arrive in melbourne\n",
      "\n",
      "news_id | score | headline\n",
      "37758 1.00 formula one cars arrive in melbourne\n",
      "37770 0.92 formula one too expensive schumacher\n",
      "37726 0.91 iceman is formula ones hot property\n",
      "33877 0.88 [HEADLINES NOT FOUND]\n",
      "37750 0.88 formula one heats up\n"
     ]
    }
   ],
   "source": [
    "# find top 5 most similar news\n",
    "item_id = 37758\n",
    "n_similar = 5\n",
    "\n",
    "print('Searching for news feed similar to: ', headlines[headlines.news_id==item_id].headline.iloc[0])\n",
    "similar = model.similar_items(item_id, n_similar)\n",
    "\n",
    "print('\\nnews_id | score | headline')\n",
    "for item in similar:\n",
    "    idx, score = item\n",
    "    if (idx in headlines.news_id.values):\n",
    "        print(idx, format(score,'.2f'), headlines[headlines.news_id==idx].headline.iloc[0])\n",
    "    else:\n",
    "        print(idx, format(score,'.2f'), '[HEADLINES NOT FOUND]')\n",
    "#         print('Debug msg :', item_lookup[item_lookup.news_id==idx].news.iloc[0])"
   ]
  },
  {
   "cell_type": "markdown",
   "metadata": {},
   "source": [
    "### 4. Make Recommendation to Users\n",
    "\n",
    "To recommend news feeds to users, we can also use built in function for recommendation."
   ]
  },
  {
   "cell_type": "code",
   "execution_count": 33,
   "metadata": {},
   "outputs": [
    {
     "name": "stdout",
     "output_type": "stream",
     "text": [
      "Reading History of User 1\n",
      "   news_id\n",
      "0     8288\n",
      "1    12237\n",
      "2    15921\n",
      "3    16109\n",
      "4    35636\n",
      "5    36819\n",
      "6    37038\n",
      "7    37768\n",
      "8    38052\n",
      "9    38130\n",
      "10   38277\n",
      "11   38338\n",
      "12   38522\n",
      "\n",
      "Recommendation to User 1\n",
      "   news_id     score\n",
      "0    38199  1.091851\n",
      "1    38311  1.047194\n",
      "2    38118  1.016983\n",
      "3    37232  0.870030\n",
      "4    39555  0.817655\n",
      "5    38549  0.810417\n",
      "6    36818  0.806976\n",
      "7    38152  0.790003\n",
      "8    38540  0.783468\n",
      "9    38180  0.750013\n"
     ]
    }
   ],
   "source": [
    "user_id = 1\n",
    "\n",
    "# get users' reading history\n",
    "consumed_idx = sparse_user_item[user_id,:].nonzero()[1].astype(str)\n",
    "print('Reading History of User', user_id)\n",
    "print( pd.DataFrame({'news_id': consumed_idx}))\n",
    "\n",
    "# make recommendation\n",
    "recommended = model.recommend(user_id, sparse_user_item)\n",
    "\n",
    "items = []\n",
    "scores = []\n",
    "for item in recommended:\n",
    "    idx, score = item\n",
    "    items.append(idx)\n",
    "    scores.append(score)\n",
    "\n",
    "recommendations = pd.DataFrame({'news_id': items, 'score': scores})\n",
    "print('\\nRecommendation to User', user_id)\n",
    "print(recommendations)"
   ]
  },
  {
   "cell_type": "code",
   "execution_count": null,
   "metadata": {},
   "outputs": [],
   "source": []
  }
 ],
 "metadata": {
  "kernelspec": {
   "display_name": "Python 3",
   "language": "python",
   "name": "python3"
  },
  "language_info": {
   "codemirror_mode": {
    "name": "ipython",
    "version": 3
   },
   "file_extension": ".py",
   "mimetype": "text/x-python",
   "name": "python",
   "nbconvert_exporter": "python",
   "pygments_lexer": "ipython3",
   "version": "3.6.5"
  }
 },
 "nbformat": 4,
 "nbformat_minor": 2
}
